{
 "cells": [
  {
   "cell_type": "markdown",
   "metadata": {
    "id": "tlwVnoxChQA_"
   },
   "source": [
    "# **Dealer Pricing Model**"
   ]
  },
  {
   "cell_type": "markdown",
   "metadata": {
    "id": "uDIVag0yhQBD"
   },
   "source": [
    "## Step 1: Import the necessary libraries"
   ]
  },
  {
   "cell_type": "code",
   "execution_count": 170,
   "metadata": {
    "id": "7pNuIsPOhQBE"
   },
   "outputs": [],
   "source": [
    "import warnings\n",
    "warnings.filterwarnings(\"ignore\")\n",
    "\n",
    "#for data manipulation\n",
    "import pandas as pd\n",
    "import numpy as np\n",
    "\n",
    "#for data visualisation\n",
    "import matplotlib.pyplot as plt\n",
    "import seaborn as sns\n",
    "\n",
    "#for data modelling\n",
    "from sklearn.model_selection import train_test_split\n",
    "from sklearn.linear_model import LinearRegression\n",
    "from sklearn.tree import DecisionTreeRegressor\n",
    "import pickle\n",
    "\n",
    "#for model evaluation\n",
    "from sklearn.linear_model import LinearRegression\n",
    "from sklearn.metrics import mean_absolute_error, mean_squared_error, r2_score"
   ]
  },
  {
   "cell_type": "markdown",
   "metadata": {
    "id": "l2esPJ5PhQBH"
   },
   "source": [
    "## Step 2: Load the dataset"
   ]
  },
  {
   "cell_type": "code",
   "execution_count": 171,
   "metadata": {
    "id": "W5op9SnUhQBH"
   },
   "outputs": [],
   "source": [
    "df = pd.read_csv('order.csv')"
   ]
  },
  {
   "cell_type": "markdown",
   "metadata": {
    "id": "wVNhSGTFhQBI"
   },
   "source": [
    "## Step 3: Introductory Insights\n",
    "\n",
    "Obtain introductory information such as shape of the data, number of rows, number of columns, etc."
   ]
  },
  {
   "cell_type": "code",
   "execution_count": 172,
   "metadata": {
    "colab": {
     "base_uri": "https://localhost:8080/",
     "height": 206
    },
    "id": "Kszx0OVkhQBI",
    "outputId": "91afd6e9-a037-43a1-c3f1-ee54dc697296"
   },
   "outputs": [
    {
     "data": {
      "text/html": [
       "<div>\n",
       "<style scoped>\n",
       "    .dataframe tbody tr th:only-of-type {\n",
       "        vertical-align: middle;\n",
       "    }\n",
       "\n",
       "    .dataframe tbody tr th {\n",
       "        vertical-align: top;\n",
       "    }\n",
       "\n",
       "    .dataframe thead th {\n",
       "        text-align: right;\n",
       "    }\n",
       "</style>\n",
       "<table border=\"1\" class=\"dataframe\">\n",
       "  <thead>\n",
       "    <tr style=\"text-align: right;\">\n",
       "      <th></th>\n",
       "      <th>request_date</th>\n",
       "      <th>state_id</th>\n",
       "      <th>product_group_id</th>\n",
       "      <th>material_code</th>\n",
       "      <th>rate</th>\n",
       "    </tr>\n",
       "  </thead>\n",
       "  <tbody>\n",
       "    <tr>\n",
       "      <th>0</th>\n",
       "      <td>11-10-2019</td>\n",
       "      <td>7</td>\n",
       "      <td>1</td>\n",
       "      <td>4000061</td>\n",
       "      <td>56800</td>\n",
       "    </tr>\n",
       "    <tr>\n",
       "      <th>1</th>\n",
       "      <td>11-10-2019</td>\n",
       "      <td>5</td>\n",
       "      <td>1</td>\n",
       "      <td>4000061</td>\n",
       "      <td>54500</td>\n",
       "    </tr>\n",
       "    <tr>\n",
       "      <th>2</th>\n",
       "      <td>11-10-2019</td>\n",
       "      <td>5</td>\n",
       "      <td>1</td>\n",
       "      <td>4000061</td>\n",
       "      <td>54500</td>\n",
       "    </tr>\n",
       "    <tr>\n",
       "      <th>3</th>\n",
       "      <td>11-10-2019</td>\n",
       "      <td>4</td>\n",
       "      <td>1</td>\n",
       "      <td>4000061</td>\n",
       "      <td>53500</td>\n",
       "    </tr>\n",
       "    <tr>\n",
       "      <th>4</th>\n",
       "      <td>11-10-2019</td>\n",
       "      <td>5</td>\n",
       "      <td>1</td>\n",
       "      <td>4000061</td>\n",
       "      <td>54500</td>\n",
       "    </tr>\n",
       "  </tbody>\n",
       "</table>\n",
       "</div>"
      ],
      "text/plain": [
       "  request_date  state_id  product_group_id  material_code   rate\n",
       "0   11-10-2019         7                 1        4000061  56800\n",
       "1   11-10-2019         5                 1        4000061  54500\n",
       "2   11-10-2019         5                 1        4000061  54500\n",
       "3   11-10-2019         4                 1        4000061  53500\n",
       "4   11-10-2019         5                 1        4000061  54500"
      ]
     },
     "execution_count": 172,
     "metadata": {},
     "output_type": "execute_result"
    }
   ],
   "source": [
    "df.head(5)"
   ]
  },
  {
   "cell_type": "code",
   "execution_count": 173,
   "metadata": {
    "colab": {
     "base_uri": "https://localhost:8080/",
     "height": 206
    },
    "id": "hqFp95MYhQBJ",
    "outputId": "aad77eb0-8e1e-4861-d374-9ceff0b22a8e"
   },
   "outputs": [
    {
     "data": {
      "text/html": [
       "<div>\n",
       "<style scoped>\n",
       "    .dataframe tbody tr th:only-of-type {\n",
       "        vertical-align: middle;\n",
       "    }\n",
       "\n",
       "    .dataframe tbody tr th {\n",
       "        vertical-align: top;\n",
       "    }\n",
       "\n",
       "    .dataframe thead th {\n",
       "        text-align: right;\n",
       "    }\n",
       "</style>\n",
       "<table border=\"1\" class=\"dataframe\">\n",
       "  <thead>\n",
       "    <tr style=\"text-align: right;\">\n",
       "      <th></th>\n",
       "      <th>request_date</th>\n",
       "      <th>state_id</th>\n",
       "      <th>product_group_id</th>\n",
       "      <th>material_code</th>\n",
       "      <th>rate</th>\n",
       "    </tr>\n",
       "  </thead>\n",
       "  <tbody>\n",
       "    <tr>\n",
       "      <th>217929</th>\n",
       "      <td>19-10-2024</td>\n",
       "      <td>4</td>\n",
       "      <td>5</td>\n",
       "      <td>4600101</td>\n",
       "      <td>73000</td>\n",
       "    </tr>\n",
       "    <tr>\n",
       "      <th>217930</th>\n",
       "      <td>19-10-2024</td>\n",
       "      <td>3</td>\n",
       "      <td>5</td>\n",
       "      <td>4600101</td>\n",
       "      <td>74900</td>\n",
       "    </tr>\n",
       "    <tr>\n",
       "      <th>217931</th>\n",
       "      <td>19-10-2024</td>\n",
       "      <td>14</td>\n",
       "      <td>5</td>\n",
       "      <td>4600101</td>\n",
       "      <td>73900</td>\n",
       "    </tr>\n",
       "    <tr>\n",
       "      <th>217932</th>\n",
       "      <td>19-10-2024</td>\n",
       "      <td>3</td>\n",
       "      <td>5</td>\n",
       "      <td>4600103</td>\n",
       "      <td>74900</td>\n",
       "    </tr>\n",
       "    <tr>\n",
       "      <th>217933</th>\n",
       "      <td>19-10-2024</td>\n",
       "      <td>14</td>\n",
       "      <td>5</td>\n",
       "      <td>4600103</td>\n",
       "      <td>73900</td>\n",
       "    </tr>\n",
       "  </tbody>\n",
       "</table>\n",
       "</div>"
      ],
      "text/plain": [
       "       request_date  state_id  product_group_id  material_code   rate\n",
       "217929   19-10-2024         4                 5        4600101  73000\n",
       "217930   19-10-2024         3                 5        4600101  74900\n",
       "217931   19-10-2024        14                 5        4600101  73900\n",
       "217932   19-10-2024         3                 5        4600103  74900\n",
       "217933   19-10-2024        14                 5        4600103  73900"
      ]
     },
     "execution_count": 173,
     "metadata": {},
     "output_type": "execute_result"
    }
   ],
   "source": [
    "df.tail(5)"
   ]
  },
  {
   "cell_type": "code",
   "execution_count": 174,
   "metadata": {
    "colab": {
     "base_uri": "https://localhost:8080/"
    },
    "id": "-PSvcTWshQBJ",
    "outputId": "8fef2883-e4f1-4032-d152-c16941dbd6d8"
   },
   "outputs": [
    {
     "name": "stdout",
     "output_type": "stream",
     "text": [
      "Information about the columns and its datatypes\n",
      "<class 'pandas.core.frame.DataFrame'>\n",
      "RangeIndex: 217934 entries, 0 to 217933\n",
      "Data columns (total 5 columns):\n",
      " #   Column            Non-Null Count   Dtype \n",
      "---  ------            --------------   ----- \n",
      " 0   request_date      217934 non-null  object\n",
      " 1   state_id          217934 non-null  int64 \n",
      " 2   product_group_id  217934 non-null  int64 \n",
      " 3   material_code     217934 non-null  int64 \n",
      " 4   rate              217934 non-null  int64 \n",
      "dtypes: int64(4), object(1)\n",
      "memory usage: 8.3+ MB\n",
      "\n",
      "Shape of the data\n",
      "(217934, 5)\n"
     ]
    }
   ],
   "source": [
    "print('Information about the columns and its datatypes')\n",
    "df.info()\n",
    "\n",
    "print('\\nShape of the data')\n",
    "print(df.shape)"
   ]
  },
  {
   "cell_type": "code",
   "execution_count": 175,
   "metadata": {
    "colab": {
     "base_uri": "https://localhost:8080/"
    },
    "id": "-PSvcTWshQBJ",
    "outputId": "8fef2883-e4f1-4032-d152-c16941dbd6d8"
   },
   "outputs": [
    {
     "name": "stdout",
     "output_type": "stream",
     "text": [
      "Information about the columns and its datatypes\n",
      "<class 'pandas.core.frame.DataFrame'>\n",
      "RangeIndex: 217934 entries, 0 to 217933\n",
      "Data columns (total 5 columns):\n",
      " #   Column            Non-Null Count   Dtype \n",
      "---  ------            --------------   ----- \n",
      " 0   request_date      217934 non-null  object\n",
      " 1   state_id          217934 non-null  int64 \n",
      " 2   product_group_id  217934 non-null  int64 \n",
      " 3   material_code     217934 non-null  int64 \n",
      " 4   rate              217934 non-null  int64 \n",
      "dtypes: int64(4), object(1)\n",
      "memory usage: 8.3+ MB\n",
      "\n",
      "Shape of the data\n",
      "(217934, 5)\n"
     ]
    }
   ],
   "source": [
    "print('Information about the columns and its datatypes')\n",
    "df.info()\n",
    "\n",
    "print('\\nShape of the data')\n",
    "print(df.shape)"
   ]
  },
  {
   "cell_type": "markdown",
   "metadata": {
    "id": "yXjiOWK5hQBK"
   },
   "source": [
    "## Step 4: Statistical Insights\n",
    "\n",
    "Obtain the mean, standard deviation, etc. from the data"
   ]
  },
  {
   "cell_type": "code",
   "execution_count": 176,
   "metadata": {
    "colab": {
     "base_uri": "https://localhost:8080/",
     "height": 300
    },
    "id": "zng2PHZlhQBK",
    "outputId": "ddf1a830-035d-4e6f-97ee-6bc8bb9f85c9"
   },
   "outputs": [
    {
     "data": {
      "text/html": [
       "<div>\n",
       "<style scoped>\n",
       "    .dataframe tbody tr th:only-of-type {\n",
       "        vertical-align: middle;\n",
       "    }\n",
       "\n",
       "    .dataframe tbody tr th {\n",
       "        vertical-align: top;\n",
       "    }\n",
       "\n",
       "    .dataframe thead th {\n",
       "        text-align: right;\n",
       "    }\n",
       "</style>\n",
       "<table border=\"1\" class=\"dataframe\">\n",
       "  <thead>\n",
       "    <tr style=\"text-align: right;\">\n",
       "      <th></th>\n",
       "      <th>state_id</th>\n",
       "      <th>product_group_id</th>\n",
       "      <th>material_code</th>\n",
       "      <th>rate</th>\n",
       "    </tr>\n",
       "  </thead>\n",
       "  <tbody>\n",
       "    <tr>\n",
       "      <th>count</th>\n",
       "      <td>217934.000000</td>\n",
       "      <td>217934.000000</td>\n",
       "      <td>2.179340e+05</td>\n",
       "      <td>217934.000000</td>\n",
       "    </tr>\n",
       "    <tr>\n",
       "      <th>mean</th>\n",
       "      <td>7.426826</td>\n",
       "      <td>1.161379</td>\n",
       "      <td>4.049539e+06</td>\n",
       "      <td>72921.527518</td>\n",
       "    </tr>\n",
       "    <tr>\n",
       "      <th>std</th>\n",
       "      <td>6.477766</td>\n",
       "      <td>0.665817</td>\n",
       "      <td>1.347495e+05</td>\n",
       "      <td>8723.769501</td>\n",
       "    </tr>\n",
       "    <tr>\n",
       "      <th>min</th>\n",
       "      <td>3.000000</td>\n",
       "      <td>1.000000</td>\n",
       "      <td>4.000061e+06</td>\n",
       "      <td>6800.000000</td>\n",
       "    </tr>\n",
       "    <tr>\n",
       "      <th>25%</th>\n",
       "      <td>3.000000</td>\n",
       "      <td>1.000000</td>\n",
       "      <td>4.000071e+06</td>\n",
       "      <td>70300.000000</td>\n",
       "    </tr>\n",
       "    <tr>\n",
       "      <th>50%</th>\n",
       "      <td>5.000000</td>\n",
       "      <td>1.000000</td>\n",
       "      <td>4.000072e+06</td>\n",
       "      <td>74300.000000</td>\n",
       "    </tr>\n",
       "    <tr>\n",
       "      <th>75%</th>\n",
       "      <td>7.000000</td>\n",
       "      <td>1.000000</td>\n",
       "      <td>4.000074e+06</td>\n",
       "      <td>77700.000000</td>\n",
       "    </tr>\n",
       "    <tr>\n",
       "      <th>max</th>\n",
       "      <td>33.000000</td>\n",
       "      <td>5.000000</td>\n",
       "      <td>4.700026e+06</td>\n",
       "      <td>818000.000000</td>\n",
       "    </tr>\n",
       "  </tbody>\n",
       "</table>\n",
       "</div>"
      ],
      "text/plain": [
       "            state_id  product_group_id  material_code           rate\n",
       "count  217934.000000     217934.000000   2.179340e+05  217934.000000\n",
       "mean        7.426826          1.161379   4.049539e+06   72921.527518\n",
       "std         6.477766          0.665817   1.347495e+05    8723.769501\n",
       "min         3.000000          1.000000   4.000061e+06    6800.000000\n",
       "25%         3.000000          1.000000   4.000071e+06   70300.000000\n",
       "50%         5.000000          1.000000   4.000072e+06   74300.000000\n",
       "75%         7.000000          1.000000   4.000074e+06   77700.000000\n",
       "max        33.000000          5.000000   4.700026e+06  818000.000000"
      ]
     },
     "execution_count": 176,
     "metadata": {},
     "output_type": "execute_result"
    }
   ],
   "source": [
    "df.describe()"
   ]
  },
  {
   "cell_type": "markdown",
   "metadata": {
    "id": "ZiR7aQd-hQBL"
   },
   "source": [
    "## Step 5: Data Cleaning\n",
    "\n",
    "Making sure that data is ready to train the model"
   ]
  },
  {
   "cell_type": "code",
   "execution_count": 177,
   "metadata": {},
   "outputs": [
    {
     "name": "stdout",
     "output_type": "stream",
     "text": [
      "<class 'pandas.core.frame.DataFrame'>\n",
      "RangeIndex: 217934 entries, 0 to 217933\n",
      "Data columns (total 5 columns):\n",
      " #   Column            Non-Null Count   Dtype \n",
      "---  ------            --------------   ----- \n",
      " 0   request_date      217934 non-null  object\n",
      " 1   state_id          217934 non-null  int64 \n",
      " 2   product_group_id  217934 non-null  int64 \n",
      " 3   material_code     217934 non-null  int64 \n",
      " 4   rate              217934 non-null  int64 \n",
      "dtypes: int64(4), object(1)\n",
      "memory usage: 8.3+ MB\n"
     ]
    }
   ],
   "source": [
    "df.info()"
   ]
  },
  {
   "cell_type": "code",
   "execution_count": 178,
   "metadata": {},
   "outputs": [
    {
     "name": "stdout",
     "output_type": "stream",
     "text": [
      "<class 'pandas.core.frame.DataFrame'>\n",
      "RangeIndex: 217934 entries, 0 to 217933\n",
      "Data columns (total 7 columns):\n",
      " #   Column            Non-Null Count   Dtype         \n",
      "---  ------            --------------   -----         \n",
      " 0   request_date      217934 non-null  datetime64[ns]\n",
      " 1   state_id          217934 non-null  int64         \n",
      " 2   product_group_id  217934 non-null  int64         \n",
      " 3   material_code     217934 non-null  int64         \n",
      " 4   rate              217934 non-null  int64         \n",
      " 5   year              217934 non-null  int32         \n",
      " 6   month             217934 non-null  int32         \n",
      "dtypes: datetime64[ns](1), int32(2), int64(4)\n",
      "memory usage: 10.0 MB\n"
     ]
    }
   ],
   "source": [
    "# Convert 'request_date' to datetime with dayfirst=True\n",
    "df['request_date'] = pd.to_datetime(df['request_date'], dayfirst=True)\n",
    "\n",
    "# Extract year and month\n",
    "df['year'] = df['request_date'].dt.year\n",
    "df['month'] = df['request_date'].dt.month\n",
    "\n",
    "# Display the updated DataFrame info\n",
    "df.info()"
   ]
  },
  {
   "cell_type": "markdown",
   "metadata": {
    "id": "rvW29FhDhQBQ"
   },
   "source": [
    "## Step 6: Data Visualisation"
   ]
  },
  {
   "cell_type": "markdown",
   "metadata": {
    "id": "GE2ElMFShQBR"
   },
   "source": [
    "### Correlation"
   ]
  },
  {
   "cell_type": "code",
   "execution_count": 179,
   "metadata": {
    "colab": {
     "base_uri": "https://localhost:8080/",
     "height": 1000
    },
    "id": "uPssCE6nhQBR",
    "outputId": "cb69d02c-800d-4efa-db05-4908d6720894"
   },
   "outputs": [
    {
     "data": {
      "image/png": "[encoded data removed]",
      "text/plain": [
       "<Figure size 1000x700 with 2 Axes>"
      ]
     },
     "metadata": {},
     "output_type": "display_data"
    }
   ],
   "source": [
    "# Select only numeric columns\n",
    "numeric_df = df.select_dtypes(include=[np.number])\n",
    "\n",
    "# Calculate the correlation matrix\n",
    "corrmat = numeric_df.corr()\n",
    "\n",
    "# Plot the heatmap\n",
    "plt.figure(figsize=(10, 7))\n",
    "heatmap = sns.heatmap(corrmat, annot=True, fmt=\".2f\", cmap=\"coolwarm\", linewidths=0.5, cbar_kws={'shrink': 0.8})\n",
    "\n",
    "plt.tight_layout()\n",
    "plt.show()"
   ]
  },
  {
   "cell_type": "markdown",
   "metadata": {
    "id": "eqW4cIdzhQBa"
   },
   "source": [
    "## Step 8: Data Modelling\n",
    "\n",
    "* Train-Test-Split\n",
    "* Fit the model to perform predictions\n",
    "* Comparing the following algorithms to see which model performs the best"
   ]
  },
  {
   "cell_type": "markdown",
   "metadata": {
    "id": "yU3bXd_MhQBc"
   },
   "source": [
    "### Determine X and Y"
   ]
  },
  {
   "cell_type": "code",
   "execution_count": 180,
   "metadata": {
    "id": "HNwuv3RzhQBc"
   },
   "outputs": [],
   "source": [
    "df = df.drop(['request_date'],axis=1)\n",
    "X= df.drop(['rate'],axis=1)\n",
    "Y= df['rate']"
   ]
  },
  {
   "cell_type": "markdown",
   "metadata": {
    "id": "hGehWWJvhQBc"
   },
   "source": [
    "### Splitting the Dataset"
   ]
  },
  {
   "cell_type": "code",
   "execution_count": 181,
   "metadata": {
    "id": "qDeDTYAKhQBc"
   },
   "outputs": [],
   "source": [
    "X_train , X_test, Y_train, Y_test = train_test_split(X,Y,test_size=0.2,random_state=42)"
   ]
  },
  {
   "cell_type": "markdown",
   "metadata": {
    "id": "Diw-SbGHhQBi"
   },
   "source": [
    "##### LINEAR REGRESSION"
   ]
  },
  {
   "cell_type": "code",
   "execution_count": 182,
   "metadata": {
    "id": "YipCClPWhQBj"
   },
   "outputs": [],
   "source": [
    "lrf = LinearRegression()\n",
    "lrf.fit(X_train,Y_train)\n",
    "Y_pred_lrf = lrf.predict(X_test)"
   ]
  },
  {
   "cell_type": "markdown",
   "metadata": {
    "id": "1cLLEcdfhQBl"
   },
   "source": [
    "##### DECISION TREE REGRESSOR"
   ]
  },
  {
   "cell_type": "code",
   "execution_count": 183,
   "metadata": {
    "id": "Rjkei4g8hQBl"
   },
   "outputs": [],
   "source": [
    "dtr = DecisionTreeRegressor()\n",
    "dtr.fit(X_train,Y_train)\n",
    "Y_pred_dtr = dtr.predict(X_test)"
   ]
  },
  {
   "cell_type": "markdown",
   "metadata": {
    "id": "Rjkei4g8hQBl"
   },
   "source": [
    "##### RIDGE REGRESSION"
   ]
  },
  {
   "cell_type": "code",
   "execution_count": null,
   "metadata": {
    "id": "Rjkei4g8hQBl"
   },
   "outputs": [],
   "source": []
  },
  {
   "cell_type": "markdown",
   "metadata": {
    "id": "Rjkei4g8hQBl"
   },
   "source": [
    "##### LASSO REGRESSION"
   ]
  },
  {
   "cell_type": "code",
   "execution_count": null,
   "metadata": {
    "id": "Rjkei4g8hQBl"
   },
   "outputs": [],
   "source": []
  },
  {
   "cell_type": "markdown",
   "metadata": {
    "id": "cVV_2XeGhQBm"
   },
   "source": [
    "## Step 9: Model Evaluation"
   ]
  },
  {
   "cell_type": "code",
   "execution_count": 184,
   "metadata": {},
   "outputs": [
    {
     "name": "stdout",
     "output_type": "stream",
     "text": [
      "Mean Absolute Error (MAE): 5512.951916847611\n",
      "Mean Squared Error (MSE): 48727915.570460826\n",
      "Root Mean Squared Error (RMSE): 6980.538343885866\n",
      "R-squared (R²): 0.30771810963268553\n"
     ]
    }
   ],
   "source": [
    "# Mean Absolute Error (MAE)\n",
    "mae = mean_absolute_error(Y_test, Y_pred_lrf)\n",
    "\n",
    "# Mean Squared Error (MSE)\n",
    "mse = mean_squared_error(Y_test, Y_pred_lrf)\n",
    "\n",
    "# Root Mean Squared Error (RMSE)\n",
    "rmse = np.sqrt(mse)\n",
    "\n",
    "# R-squared (R²)\n",
    "r_squared = r2_score(Y_test, Y_pred_lrf)\n",
    "\n",
    "print(f\"Mean Absolute Error (MAE): {mae}\")\n",
    "print(f\"Mean Squared Error (MSE): {mse}\")\n",
    "print(f\"Root Mean Squared Error (RMSE): {rmse}\")\n",
    "print(f\"R-squared (R²): {r_squared}\")\n"
   ]
  },
  {
   "cell_type": "code",
   "execution_count": 185,
   "metadata": {},
   "outputs": [
    {
     "name": "stdout",
     "output_type": "stream",
     "text": [
      "Mean Absolute Error (MAE): 480.4373209764585\n",
      "Mean Squared Error (MSE): 1277330.0730471401\n",
      "Root Mean Squared Error (RMSE): 1130.1902817876023\n",
      "R-squared (R²): 0.9818528564737511\n"
     ]
    }
   ],
   "source": [
    "# Mean Absolute Error (MAE)\n",
    "mae = mean_absolute_error(Y_test, Y_pred_dtr)\n",
    "\n",
    "# Mean Squared Error (MSE)\n",
    "mse = mean_squared_error(Y_test, Y_pred_dtr)\n",
    "\n",
    "# Root Mean Squared Error (RMSE)\n",
    "rmse = np.sqrt(mse)\n",
    "\n",
    "# R-squared (R²)\n",
    "r_squared = r2_score(Y_test, Y_pred_dtr)\n",
    "\n",
    "print(f\"Mean Absolute Error (MAE): {mae}\")\n",
    "print(f\"Mean Squared Error (MSE): {mse}\")\n",
    "print(f\"Root Mean Squared Error (RMSE): {rmse}\")\n",
    "print(f\"R-squared (R²): {r_squared}\")\n"
   ]
  },
  {
   "cell_type": "code",
   "execution_count": 186,
   "metadata": {
    "id": "CYWlKPHVhQBo"
   },
   "outputs": [],
   "source": [
    "pickle.dump(dtr, open('dtr.pkl', 'wb'))"
   ]
  },
  {
   "cell_type": "markdown",
   "metadata": {},
   "source": [
    "## Step 10: Testing the Model\n",
    "\n",
    "- Take user input and predict the output"
   ]
  },
  {
   "cell_type": "code",
   "execution_count": 187,
   "metadata": {},
   "outputs": [
    {
     "data": {
      "text/plain": [
       "array([75800.        , 72484.75073314, 72300.        , ...,\n",
       "       62000.        , 62000.        , 62000.        ])"
      ]
     },
     "execution_count": 187,
     "metadata": {},
     "output_type": "execute_result"
    }
   ],
   "source": [
    "# CSV To DataFrame\n",
    "input_data = pd.read_csv('ordertest.csv')\n",
    "\n",
    "# Loading trained model\n",
    "with open('dtr.pkl', 'rb') as file:\n",
    "    model = pickle.load(file)\n",
    "\n",
    "# Make predictions\n",
    "predictions = model.predict(input_data)\n",
    "\n",
    "# Saving Predictions\n",
    "output_df = pd.DataFrame(predictions, columns=['Predicted'])\n",
    "output_df.to_csv('output_file.csv', index=False)\n",
    "\n",
    "predictions"
   ]
  },
  {
   "cell_type": "code",
   "execution_count": null,
   "metadata": {},
   "outputs": [],
   "source": []
  }
 ],
 "metadata": {
  "colab": {
   "provenance": []
  },
  "kernelspec": {
   "display_name": "myenv",
   "language": "python",
   "name": "python3"
  },
  "language_info": {
   "codemirror_mode": {
    "name": "ipython",
    "version": 3
   },
   "file_extension": ".py",
   "mimetype": "text/x-python",
   "name": "python",
   "nbconvert_exporter": "python",
   "pygments_lexer": "ipython3",
   "version": "3.12.1"
  }
 },
 "nbformat": 4,
 "nbformat_minor": 4
}
